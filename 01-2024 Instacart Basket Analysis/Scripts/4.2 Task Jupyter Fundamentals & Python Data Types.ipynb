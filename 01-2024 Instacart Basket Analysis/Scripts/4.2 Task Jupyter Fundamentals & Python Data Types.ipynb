{
 "cells": [
  {
   "cell_type": "markdown",
   "id": "06a94696",
   "metadata": {},
   "source": [
    "# 01. Importing libraries"
   ]
  },
  {
   "cell_type": "code",
   "execution_count": 1,
   "id": "0c0301c2",
   "metadata": {},
   "outputs": [],
   "source": [
    "# 01. Importing libraries\n",
    "import pandas as pd\n",
    "import numpy as np\n",
    "import os"
   ]
  },
  {
   "cell_type": "markdown",
   "id": "28cfea54",
   "metadata": {},
   "source": [
    "# 02. Python data types"
   ]
  },
  {
   "cell_type": "code",
   "execution_count": 3,
   "id": "3994d5bb",
   "metadata": {},
   "outputs": [],
   "source": [
    "x = 100"
   ]
  },
  {
   "cell_type": "code",
   "execution_count": 4,
   "id": "437f7e4a",
   "metadata": {},
   "outputs": [],
   "source": [
    "y = 200"
   ]
  },
  {
   "cell_type": "code",
   "execution_count": 5,
   "id": "006efb06",
   "metadata": {},
   "outputs": [
    {
     "name": "stdout",
     "output_type": "stream",
     "text": [
      "100\n"
     ]
    }
   ],
   "source": [
    "print(x)"
   ]
  },
  {
   "cell_type": "code",
   "execution_count": 13,
   "id": "8fe37875",
   "metadata": {},
   "outputs": [
    {
     "data": {
      "text/plain": [
       "100"
      ]
     },
     "execution_count": 13,
     "metadata": {},
     "output_type": "execute_result"
    }
   ],
   "source": [
    "x"
   ]
  },
  {
   "cell_type": "code",
   "execution_count": 6,
   "id": "a11f1c60",
   "metadata": {},
   "outputs": [
    {
     "data": {
      "text/plain": [
       "100"
      ]
     },
     "execution_count": 6,
     "metadata": {},
     "output_type": "execute_result"
    }
   ],
   "source": [
    "y - x"
   ]
  },
  {
   "cell_type": "code",
   "execution_count": 12,
   "id": "c705fb34",
   "metadata": {},
   "outputs": [
    {
     "data": {
      "text/plain": [
       "100"
      ]
     },
     "execution_count": 12,
     "metadata": {},
     "output_type": "execute_result"
    }
   ],
   "source": [
    "(150 - 149) * x"
   ]
  },
  {
   "cell_type": "code",
   "execution_count": 14,
   "id": "d1d7adaf",
   "metadata": {},
   "outputs": [],
   "source": [
    "r = 1.902"
   ]
  },
  {
   "cell_type": "code",
   "execution_count": 15,
   "id": "dc311d68",
   "metadata": {},
   "outputs": [],
   "source": [
    "j = 1.805"
   ]
  },
  {
   "cell_type": "code",
   "execution_count": 17,
   "id": "6da9d9df",
   "metadata": {},
   "outputs": [
    {
     "data": {
      "text/plain": [
       "1.0537396121883655"
      ]
     },
     "execution_count": 17,
     "metadata": {},
     "output_type": "execute_result"
    }
   ],
   "source": [
    "r/j"
   ]
  },
  {
   "cell_type": "code",
   "execution_count": 23,
   "id": "dd99cb46",
   "metadata": {},
   "outputs": [],
   "source": [
    "a = 'Python, '"
   ]
  },
  {
   "cell_type": "code",
   "execution_count": 19,
   "id": "dee6a743",
   "metadata": {},
   "outputs": [],
   "source": [
    "b = 'is fun!'"
   ]
  },
  {
   "cell_type": "code",
   "execution_count": 20,
   "id": "6c4f1dd2",
   "metadata": {},
   "outputs": [
    {
     "data": {
      "text/plain": [
       "'Python, is fun!'"
      ]
     },
     "execution_count": 20,
     "metadata": {},
     "output_type": "execute_result"
    }
   ],
   "source": [
    "a + b"
   ]
  },
  {
   "cell_type": "markdown",
   "id": "6c713d1a",
   "metadata": {},
   "source": [
    "# 03. Bonus Task"
   ]
  },
  {
   "cell_type": "code",
   "execution_count": 21,
   "id": "7a2dd8b8",
   "metadata": {},
   "outputs": [
    {
     "data": {
      "text/plain": [
       "'Python, is fun!Python, is fun!Python, is fun!Python, is fun!Python, is fun!Python, is fun!Python, is fun!Python, is fun!Python, is fun!Python, is fun!Python, is fun!Python, is fun!Python, is fun!Python, is fun!Python, is fun!Python, is fun!Python, is fun!Python, is fun!Python, is fun!Python, is fun!Python, is fun!Python, is fun!Python, is fun!Python, is fun!Python, is fun!Python, is fun!Python, is fun!Python, is fun!Python, is fun!Python, is fun!Python, is fun!Python, is fun!Python, is fun!Python, is fun!Python, is fun!Python, is fun!Python, is fun!Python, is fun!Python, is fun!Python, is fun!Python, is fun!Python, is fun!Python, is fun!Python, is fun!Python, is fun!Python, is fun!Python, is fun!Python, is fun!Python, is fun!Python, is fun!Python, is fun!Python, is fun!Python, is fun!Python, is fun!Python, is fun!Python, is fun!Python, is fun!Python, is fun!Python, is fun!Python, is fun!Python, is fun!Python, is fun!Python, is fun!Python, is fun!Python, is fun!Python, is fun!Python, is fun!Python, is fun!Python, is fun!Python, is fun!Python, is fun!Python, is fun!Python, is fun!Python, is fun!Python, is fun!Python, is fun!Python, is fun!Python, is fun!Python, is fun!Python, is fun!Python, is fun!Python, is fun!Python, is fun!Python, is fun!Python, is fun!Python, is fun!Python, is fun!Python, is fun!Python, is fun!Python, is fun!Python, is fun!Python, is fun!Python, is fun!Python, is fun!Python, is fun!Python, is fun!Python, is fun!Python, is fun!Python, is fun!Python, is fun!'"
      ]
     },
     "execution_count": 21,
     "metadata": {},
     "output_type": "execute_result"
    }
   ],
   "source": [
    "(a + b) * 100"
   ]
  },
  {
   "cell_type": "code",
   "execution_count": null,
   "id": "1bee3ee4",
   "metadata": {},
   "outputs": [],
   "source": []
  }
 ],
 "metadata": {
  "kernelspec": {
   "display_name": "Python 3 (ipykernel)",
   "language": "python",
   "name": "python3"
  },
  "language_info": {
   "codemirror_mode": {
    "name": "ipython",
    "version": 3
   },
   "file_extension": ".py",
   "mimetype": "text/x-python",
   "name": "python",
   "nbconvert_exporter": "python",
   "pygments_lexer": "ipython3",
   "version": "3.11.5"
  }
 },
 "nbformat": 4,
 "nbformat_minor": 5
}
